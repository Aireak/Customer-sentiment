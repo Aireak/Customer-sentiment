{
 "cells": [
  {
   "cell_type": "code",
   "execution_count": 2,
   "id": "c50c4b76-d838-4450-8d0f-5e1b06b45132",
   "metadata": {},
   "outputs": [],
   "source": [
    "# Import necessary libraries\n",
    "import pandas as pd\n",
    "import numpy as np\n",
    "import re\n",
    "from sklearn.preprocessing import MinMaxScaler\n",
    "import matplotlib.pyplot as plt\n",
    "import seaborn as sns"
   ]
  },
  {
   "cell_type": "code",
   "execution_count": 6,
   "id": "69d9dcf3-b05c-44c0-9c61-2fa77bd57356",
   "metadata": {},
   "outputs": [
    {
     "name": "stdout",
     "output_type": "stream",
     "text": [
      "Initial Dataset Info:\n",
      "<class 'pandas.core.frame.DataFrame'>\n",
      "RangeIndex: 850 entries, 0 to 849\n",
      "Data columns (total 6 columns):\n",
      " #   Column       Non-Null Count  Dtype  \n",
      "---  ------       --------------  -----  \n",
      " 0   name         850 non-null    object \n",
      " 1   location     850 non-null    object \n",
      " 2   date         850 non-null    object \n",
      " 3   rating       705 non-null    float64\n",
      " 4   review       850 non-null    object \n",
      " 5   image_links  850 non-null    object \n",
      "dtypes: float64(1), object(5)\n",
      "memory usage: 40.0+ KB\n",
      "None\n",
      "       name           location                     date  rating  \\\n",
      "0     Helen  Wichita Falls, TX  Reviewed Sept. 13, 2023     5.0   \n",
      "1  Courtney         Apopka, FL   Reviewed July 16, 2023     5.0   \n",
      "2  Daynelle  Cranberry Twp, PA    Reviewed July 5, 2023     5.0   \n",
      "3    Taylor        Seattle, WA    Reviewed May 26, 2023     5.0   \n",
      "4   Tenessa        Gresham, OR   Reviewed Jan. 22, 2023     5.0   \n",
      "\n",
      "                                              review  \\\n",
      "0  Amber and LaDonna at the Starbucks on Southwes...   \n",
      "1  ** at the Starbucks by the fire station on 436...   \n",
      "2  I just wanted to go out of my way to recognize...   \n",
      "3  Me and my friend were at Starbucks and my card...   \n",
      "4  I’m on this kick of drinking 5 cups of warm wa...   \n",
      "\n",
      "                                         image_links  \n",
      "0                                      ['No Images']  \n",
      "1                                      ['No Images']  \n",
      "2  ['https://media.consumeraffairs.com/files/cach...  \n",
      "3                                      ['No Images']  \n",
      "4  ['https://media.consumeraffairs.com/files/cach...  \n"
     ]
    }
   ],
   "source": [
    "# Load dataset\n",
    "df = pd.read_csv(\"reviews_data.csv\")\n",
    "\n",
    "# Standardize column names\n",
    "df.columns = df.columns.str.lower().str.replace(\" \", \"_\")\n",
    "\n",
    "# Display basic information about the dataset\n",
    "print(\"Initial Dataset Info:\")\n",
    "print(df.info())\n",
    "\n",
    "# Display first few rows\n",
    "print(df.head())"
   ]
  },
  {
   "cell_type": "code",
   "execution_count": 8,
   "id": "cf582880-375c-4b69-9499-5ef0417f265d",
   "metadata": {},
   "outputs": [
    {
     "name": "stdout",
     "output_type": "stream",
     "text": [
      "\n",
      "Missing Values Before Cleaning:\n",
      "name             0\n",
      "location         0\n",
      "date             0\n",
      "rating         145\n",
      "review           0\n",
      "image_links      0\n",
      "dtype: int64\n"
     ]
    }
   ],
   "source": [
    "# Check for missing values before cleaning\n",
    "print(\"\\nMissing Values Before Cleaning:\")\n",
    "print(df.isnull().sum())\n"
   ]
  },
  {
   "cell_type": "code",
   "execution_count": 10,
   "id": "91cd117c-95a3-480d-ba1e-badb09159e19",
   "metadata": {},
   "outputs": [
    {
     "name": "stderr",
     "output_type": "stream",
     "text": [
      "C:\\Users\\idehe\\AppData\\Local\\Temp\\ipykernel_13840\\3365512887.py:3: FutureWarning: A value is trying to be set on a copy of a DataFrame or Series through chained assignment using an inplace method.\n",
      "The behavior will change in pandas 3.0. This inplace method will never work because the intermediate object on which we are setting values always behaves as a copy.\n",
      "\n",
      "For example, when doing 'df[col].method(value, inplace=True)', try using 'df.method({col: value}, inplace=True)' or df[col] = df[col].method(value) instead, to perform the operation inplace on the original object.\n",
      "\n",
      "\n",
      "  df['review'].fillna(\"No review provided\", inplace=True)\n"
     ]
    }
   ],
   "source": [
    "# Handling missing values\n",
    "df.dropna(subset=['rating'], inplace=True)  # Remove rows where rating is missing\n",
    "df['review'].fillna(\"No review provided\", inplace=True)"
   ]
  },
  {
   "cell_type": "code",
   "execution_count": 12,
   "id": "5116808a-4826-44c7-9477-a6c4c099d815",
   "metadata": {},
   "outputs": [
    {
     "name": "stdout",
     "output_type": "stream",
     "text": [
      "\n",
      "Missing Values Before Cleaning:\n",
      "name           0\n",
      "location       0\n",
      "date           0\n",
      "rating         0\n",
      "review         0\n",
      "image_links    0\n",
      "dtype: int64\n"
     ]
    }
   ],
   "source": [
    "# Check for missing values before cleaning\n",
    "print(\"\\nMissing Values Before Cleaning:\")\n",
    "print(df.isnull().sum())"
   ]
  },
  {
   "cell_type": "code",
   "execution_count": 14,
   "id": "e624fced-544b-4f8e-ba47-637c79830d9e",
   "metadata": {},
   "outputs": [
    {
     "name": "stdout",
     "output_type": "stream",
     "text": [
      "0    Reviewed Sept. 13, 2023\n",
      "1     Reviewed July 16, 2023\n",
      "2      Reviewed July 5, 2023\n",
      "3      Reviewed May 26, 2023\n",
      "4     Reviewed Jan. 22, 2023\n",
      "Name: date, dtype: object\n",
      "object\n"
     ]
    }
   ],
   "source": [
    "print(df['date'].head())  # Check the first 20 values  \n",
    "print(df['date'].dtype)  # See the data type before conversion "
   ]
  },
  {
   "cell_type": "code",
   "execution_count": 18,
   "id": "d91e615e-508d-43f1-b4d7-93393cd78fc6",
   "metadata": {},
   "outputs": [],
   "source": [
    "df['date'] = df['date'].astype(str)  # Convert everything to string\n",
    "df['date'] = df['date'].str.replace('Reviewed ', '', regex=True)  # Remove 'Reviewed '\n",
    "\n",
    "# Convert date column to datetime format\n",
    "df['date'] = pd.to_datetime(df['date'], errors='coerce')\n",
    "df.dropna(subset=['date'], inplace=True)"
   ]
  },
  {
   "cell_type": "code",
   "execution_count": 20,
   "id": "f7f7b60b-fc57-446c-8f55-7ac58c50dcda",
   "metadata": {},
   "outputs": [
    {
     "name": "stdout",
     "output_type": "stream",
     "text": [
      "0   2023-09-13\n",
      "1   2023-07-16\n",
      "2   2023-07-05\n",
      "3   2023-05-26\n",
      "4   2023-01-22\n",
      "Name: date, dtype: datetime64[ns]\n",
      "datetime64[ns]\n"
     ]
    }
   ],
   "source": [
    "print(df['date'].head())  # Check the first 20 values  \n",
    "print(df['date'].dtype)  # See the data type before conversion "
   ]
  },
  {
   "cell_type": "code",
   "execution_count": 22,
   "id": "720bc672-b3b1-4528-90c7-51f3b34db228",
   "metadata": {},
   "outputs": [
    {
     "name": "stdout",
     "output_type": "stream",
     "text": [
      "\n",
      "Missing Values Before Cleaning:\n",
      "name           0\n",
      "location       0\n",
      "date           0\n",
      "rating         0\n",
      "review         0\n",
      "image_links    0\n",
      "dtype: int64\n"
     ]
    }
   ],
   "source": [
    "# Check for missing values before cleaning\n",
    "print(\"\\nMissing Values Before Cleaning:\")\n",
    "print(df.isnull().sum())"
   ]
  },
  {
   "cell_type": "code",
   "execution_count": 26,
   "id": "128447c0-91c9-460f-9355-8ce6cddc45ec",
   "metadata": {},
   "outputs": [],
   "source": [
    "# Function to clean review text (removing numbers & special characters but keeping negations)\n",
    "def clean_text(text):\n",
    "    text = text.lower()  # Convert to lowercase\n",
    "    text = re.sub(r\"(\\d+)\", \"\", text)  # Remove numbers\n",
    "    text = re.sub(r\"[^\\w\\s']\", \"\", text)  # Keep apostrophes for negations\n",
    "    text = re.sub(r\"\\s+\", \" \", text).strip()  # Remove extra spaces\n",
    "    return text\n",
    "\n",
    "df['cleaned_review'] = df['review'].apply(clean_text)"
   ]
  },
  {
   "cell_type": "code",
   "execution_count": 28,
   "id": "f1a4ead0-066a-40e9-aac5-5186d030157c",
   "metadata": {},
   "outputs": [],
   "source": [
    "# Feature Engineering - Word Count & Character Count\n",
    "df['word_count'] = df['cleaned_review'].apply(lambda x: len(x.split()))\n",
    "df['char_count'] = df['cleaned_review'].apply(len)"
   ]
  },
  {
   "cell_type": "code",
   "execution_count": 30,
   "id": "679c108f-711d-4831-89de-b2a1bfd8d8c3",
   "metadata": {},
   "outputs": [],
   "source": [
    "# Categorize sentiment based on rating\n",
    "def categorize_sentiment_by_rating(rating):\n",
    "    if rating >= 4:\n",
    "        return 'Positive'\n",
    "    elif rating == 3:\n",
    "        return 'Neutral'\n",
    "    else:\n",
    "        return 'Negative'\n",
    "\n",
    "df['sentiment_category'] = df['rating'].apply(categorize_sentiment_by_rating)\n"
   ]
  },
  {
   "cell_type": "code",
   "execution_count": 32,
   "id": "7824fc1e-aee6-49a7-8f18-85c443c3ccb1",
   "metadata": {},
   "outputs": [],
   "source": [
    "# Normalize rating scores\n",
    "scaler = MinMaxScaler()\n",
    "df['normalized_rating'] = scaler.fit_transform(df[['rating']])\n"
   ]
  },
  {
   "cell_type": "code",
   "execution_count": 34,
   "id": "588ea5e4-9aee-4cc0-b4a0-7529a7ad087a",
   "metadata": {},
   "outputs": [
    {
     "name": "stdout",
     "output_type": "stream",
     "text": [
      "\n",
      "Missing Values After Cleaning:\n",
      " name                  0\n",
      "location              0\n",
      "date                  0\n",
      "rating                0\n",
      "review                0\n",
      "image_links           0\n",
      "cleaned_review        0\n",
      "word_count            0\n",
      "char_count            0\n",
      "sentiment_category    0\n",
      "normalized_rating     0\n",
      "dtype: int64\n",
      "\n",
      "Number of Duplicate Rows After Cleaning: 0\n"
     ]
    }
   ],
   "source": [
    "# Data Quality Assessment\n",
    "missing_values = df.isnull().sum()\n",
    "duplicate_rows = df.duplicated().sum()\n",
    "print(\"\\nMissing Values After Cleaning:\\n\", missing_values)\n",
    "print(\"\\nNumber of Duplicate Rows After Cleaning:\", duplicate_rows)"
   ]
  },
  {
   "cell_type": "code",
   "execution_count": 36,
   "id": "1b894bd1-34eb-4271-a718-2cb2fa5c47fb",
   "metadata": {},
   "outputs": [
    {
     "name": "stderr",
     "output_type": "stream",
     "text": [
      "C:\\Users\\idehe\\AppData\\Local\\Temp\\ipykernel_13840\\1986085178.py:3: FutureWarning: \n",
      "\n",
      "Passing `palette` without assigning `hue` is deprecated and will be removed in v0.14.0. Assign the `x` variable to `hue` and set `legend=False` for the same effect.\n",
      "\n",
      "  sns.countplot(x='sentiment_category', data=df, palette='coolwarm', order=['Positive', 'Neutral', 'Negative'])\n"
     ]
    },
    {
     "data": {
      "image/png": "[encoded data removed]",
      "text/plain": [
       "<Figure size 800x500 with 1 Axes>"
      ]
     },
     "metadata": {},
     "output_type": "display_data"
    },
    {
     "name": "stderr",
     "output_type": "stream",
     "text": [
      "C:\\Users\\idehe\\AppData\\Local\\Temp\\ipykernel_13840\\1986085178.py:11: FutureWarning: \n",
      "\n",
      "Passing `palette` without assigning `hue` is deprecated and will be removed in v0.14.0. Assign the `x` variable to `hue` and set `legend=False` for the same effect.\n",
      "\n",
      "  sns.countplot(x='rating', data=df, palette='coolwarm')\n"
     ]
    },
    {
     "data": {
      "image/png": "[encoded data removed]",
      "text/plain": [
       "<Figure size 800x500 with 1 Axes>"
      ]
     },
     "metadata": {},
     "output_type": "display_data"
    }
   ],
   "source": [
    "# Visualizing Sentiment Distribution by Rating\n",
    "plt.figure(figsize=(8, 5))\n",
    "sns.countplot(x='sentiment_category', data=df, palette='coolwarm', order=['Positive', 'Neutral', 'Negative'])\n",
    "plt.title(\"Sentiment Category Distribution (Based on Rating)\")\n",
    "plt.xlabel(\"Sentiment Category\")\n",
    "plt.ylabel(\"Count\")\n",
    "plt.show()\n",
    "\n",
    "# Visualizing Review Count per Rating\n",
    "plt.figure(figsize=(8, 5))\n",
    "sns.countplot(x='rating', data=df, palette='coolwarm')\n",
    "plt.title(\"Review Count per Rating\")\n",
    "plt.xlabel(\"Rating\")\n",
    "plt.ylabel(\"Count\")\n",
    "plt.show()"
   ]
  },
  {
   "cell_type": "code",
   "execution_count": 38,
   "id": "06fc6773-91f5-466d-9662-ab7eeccecea0",
   "metadata": {},
   "outputs": [],
   "source": [
    "\n",
    "# Save cleaned dataset\n",
    "df.to_csv(\"sentiment cleaned_customer_reviews.csv\", index=False)"
   ]
  },
  {
   "cell_type": "code",
   "execution_count": null,
   "id": "f1d0abca-dce0-4a56-9cf9-2e80f2de1c5b",
   "metadata": {},
   "outputs": [],
   "source": []
  }
 ],
 "metadata": {
  "kernelspec": {
   "display_name": "Python 3 (ipykernel)",
   "language": "python",
   "name": "python3"
  },
  "language_info": {
   "codemirror_mode": {
    "name": "ipython",
    "version": 3
   },
   "file_extension": ".py",
   "mimetype": "text/x-python",
   "name": "python",
   "nbconvert_exporter": "python",
   "pygments_lexer": "ipython3",
   "version": "3.12.4"
  }
 },
 "nbformat": 4,
 "nbformat_minor": 5
}
